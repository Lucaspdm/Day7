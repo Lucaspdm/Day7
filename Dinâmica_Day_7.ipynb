{
  "nbformat": 4,
  "nbformat_minor": 0,
  "metadata": {
    "colab": {
      "name": "Dinâmica Day 7.ipynb",
      "provenance": []
    },
    "kernelspec": {
      "name": "python3",
      "display_name": "Python 3"
    },
    "language_info": {
      "name": "python"
    }
  },
  "cells": [
    {
      "cell_type": "code",
      "metadata": {
        "colab": {
          "base_uri": "https://localhost:8080/"
        },
        "id": "jiaktTKhfTNS",
        "outputId": "9f1c848a-dbeb-4f30-b592-a1ab57cfd54b"
      },
      "source": [
        "from google.colab import drive\n",
        "drive.mount('/content/drive')"
      ],
      "execution_count": 1,
      "outputs": [
        {
          "output_type": "stream",
          "name": "stdout",
          "text": [
            "Drive already mounted at /content/drive; to attempt to forcibly remount, call drive.mount(\"/content/drive\", force_remount=True).\n"
          ]
        }
      ]
    },
    {
      "cell_type": "code",
      "metadata": {
        "id": "m8NHOzWRgOfU"
      },
      "source": [
        "#Importando os datasets diretamente do Google Drive\n",
        "\n",
        "import pandas as pd\n",
        "\n",
        "df_products = pd.read_csv('/content/drive/MyDrive/Data Expert/Day 7/DNC_products_dataset.csv')\n",
        "df_orders = pd.read_csv('/content/drive/MyDrive/Data Expert/Day 7/DNC_orders_dataset.csv')\n",
        "df_reviews = pd.read_csv('/content/drive/MyDrive/Data Expert/Day 7/DNC_order_reviews_dataset.csv')\n",
        "df_items = pd.read_csv('/content/drive/MyDrive/Data Expert/Day 7/DNC_order_items_dataset.csv')"
      ],
      "execution_count": 6,
      "outputs": []
    },
    {
      "cell_type": "code",
      "metadata": {
        "colab": {
          "base_uri": "https://localhost:8080/",
          "height": 206
        },
        "id": "Ghtm2M8Cg9eH",
        "outputId": "9b02b879-699d-42cb-9fc1-6d822f6425c6"
      },
      "source": [
        "df_items.head()"
      ],
      "execution_count": 12,
      "outputs": [
        {
          "output_type": "execute_result",
          "data": {
            "text/html": [
              "<div>\n",
              "<style scoped>\n",
              "    .dataframe tbody tr th:only-of-type {\n",
              "        vertical-align: middle;\n",
              "    }\n",
              "\n",
              "    .dataframe tbody tr th {\n",
              "        vertical-align: top;\n",
              "    }\n",
              "\n",
              "    .dataframe thead th {\n",
              "        text-align: right;\n",
              "    }\n",
              "</style>\n",
              "<table border=\"1\" class=\"dataframe\">\n",
              "  <thead>\n",
              "    <tr style=\"text-align: right;\">\n",
              "      <th></th>\n",
              "      <th>Unnamed: 0</th>\n",
              "      <th>order_id</th>\n",
              "      <th>order_item_id</th>\n",
              "      <th>product_id</th>\n",
              "      <th>price</th>\n",
              "    </tr>\n",
              "  </thead>\n",
              "  <tbody>\n",
              "    <tr>\n",
              "      <th>0</th>\n",
              "      <td>0</td>\n",
              "      <td>00010242fe8c5a6d1ba2dd792cb16214</td>\n",
              "      <td>1</td>\n",
              "      <td>4244733e06e7ecb4970a6e2683c13e61</td>\n",
              "      <td>58.90</td>\n",
              "    </tr>\n",
              "    <tr>\n",
              "      <th>1</th>\n",
              "      <td>1</td>\n",
              "      <td>00018f77f2f0320c557190d7a144bdd3</td>\n",
              "      <td>1</td>\n",
              "      <td>e5f2d52b802189ee658865ca93d83a8f</td>\n",
              "      <td>239.90</td>\n",
              "    </tr>\n",
              "    <tr>\n",
              "      <th>2</th>\n",
              "      <td>2</td>\n",
              "      <td>000229ec398224ef6ca0657da4fc703e</td>\n",
              "      <td>1</td>\n",
              "      <td>c777355d18b72b67abbeef9df44fd0fd</td>\n",
              "      <td>199.00</td>\n",
              "    </tr>\n",
              "    <tr>\n",
              "      <th>3</th>\n",
              "      <td>3</td>\n",
              "      <td>00024acbcdf0a6daa1e931b038114c75</td>\n",
              "      <td>1</td>\n",
              "      <td>7634da152a4610f1595efa32f14722fc</td>\n",
              "      <td>12.99</td>\n",
              "    </tr>\n",
              "    <tr>\n",
              "      <th>4</th>\n",
              "      <td>4</td>\n",
              "      <td>00042b26cf59d7ce69dfabb4e55b4fd9</td>\n",
              "      <td>1</td>\n",
              "      <td>ac6c3623068f30de03045865e4e10089</td>\n",
              "      <td>199.90</td>\n",
              "    </tr>\n",
              "  </tbody>\n",
              "</table>\n",
              "</div>"
            ],
            "text/plain": [
              "   Unnamed: 0  ...   price\n",
              "0           0  ...   58.90\n",
              "1           1  ...  239.90\n",
              "2           2  ...  199.00\n",
              "3           3  ...   12.99\n",
              "4           4  ...  199.90\n",
              "\n",
              "[5 rows x 5 columns]"
            ]
          },
          "metadata": {},
          "execution_count": 12
        }
      ]
    },
    {
      "cell_type": "code",
      "metadata": {
        "colab": {
          "base_uri": "https://localhost:8080/",
          "height": 206
        },
        "id": "5thScUYAhZay",
        "outputId": "6cda5115-c68b-4b3b-b2c9-a6d9cc6bbc07"
      },
      "source": [
        "df_orders.head()"
      ],
      "execution_count": 13,
      "outputs": [
        {
          "output_type": "execute_result",
          "data": {
            "text/html": [
              "<div>\n",
              "<style scoped>\n",
              "    .dataframe tbody tr th:only-of-type {\n",
              "        vertical-align: middle;\n",
              "    }\n",
              "\n",
              "    .dataframe tbody tr th {\n",
              "        vertical-align: top;\n",
              "    }\n",
              "\n",
              "    .dataframe thead th {\n",
              "        text-align: right;\n",
              "    }\n",
              "</style>\n",
              "<table border=\"1\" class=\"dataframe\">\n",
              "  <thead>\n",
              "    <tr style=\"text-align: right;\">\n",
              "      <th></th>\n",
              "      <th>Unnamed: 0</th>\n",
              "      <th>order_id</th>\n",
              "      <th>customer_id</th>\n",
              "      <th>order_status</th>\n",
              "    </tr>\n",
              "  </thead>\n",
              "  <tbody>\n",
              "    <tr>\n",
              "      <th>0</th>\n",
              "      <td>0</td>\n",
              "      <td>e481f51cbdc54678b7cc49136f2d6af7</td>\n",
              "      <td>9ef432eb6251297304e76186b10a928d</td>\n",
              "      <td>delivered</td>\n",
              "    </tr>\n",
              "    <tr>\n",
              "      <th>1</th>\n",
              "      <td>1</td>\n",
              "      <td>53cdb2fc8bc7dce0b6741e2150273451</td>\n",
              "      <td>b0830fb4747a6c6d20dea0b8c802d7ef</td>\n",
              "      <td>delivered</td>\n",
              "    </tr>\n",
              "    <tr>\n",
              "      <th>2</th>\n",
              "      <td>2</td>\n",
              "      <td>47770eb9100c2d0c44946d9cf07ec65d</td>\n",
              "      <td>41ce2a54c0b03bf3443c3d931a367089</td>\n",
              "      <td>delivered</td>\n",
              "    </tr>\n",
              "    <tr>\n",
              "      <th>3</th>\n",
              "      <td>3</td>\n",
              "      <td>949d5b44dbf5de918fe9c16f97b45f8a</td>\n",
              "      <td>f88197465ea7920adcdbec7375364d82</td>\n",
              "      <td>delivered</td>\n",
              "    </tr>\n",
              "    <tr>\n",
              "      <th>4</th>\n",
              "      <td>4</td>\n",
              "      <td>ad21c59c0840e6cb83a9ceb5573f8159</td>\n",
              "      <td>8ab97904e6daea8866dbdbc4fb7aad2c</td>\n",
              "      <td>delivered</td>\n",
              "    </tr>\n",
              "  </tbody>\n",
              "</table>\n",
              "</div>"
            ],
            "text/plain": [
              "   Unnamed: 0  ... order_status\n",
              "0           0  ...    delivered\n",
              "1           1  ...    delivered\n",
              "2           2  ...    delivered\n",
              "3           3  ...    delivered\n",
              "4           4  ...    delivered\n",
              "\n",
              "[5 rows x 4 columns]"
            ]
          },
          "metadata": {},
          "execution_count": 13
        }
      ]
    },
    {
      "cell_type": "code",
      "metadata": {
        "colab": {
          "base_uri": "https://localhost:8080/",
          "height": 226
        },
        "id": "Tl4ai6-kiWqp",
        "outputId": "657b855d-43d9-4e8b-fdb1-72b0f2dcb651"
      },
      "source": [
        "df_products.head()"
      ],
      "execution_count": 18,
      "outputs": [
        {
          "output_type": "execute_result",
          "data": {
            "text/html": [
              "<div>\n",
              "<style scoped>\n",
              "    .dataframe tbody tr th:only-of-type {\n",
              "        vertical-align: middle;\n",
              "    }\n",
              "\n",
              "    .dataframe tbody tr th {\n",
              "        vertical-align: top;\n",
              "    }\n",
              "\n",
              "    .dataframe thead th {\n",
              "        text-align: right;\n",
              "    }\n",
              "</style>\n",
              "<table border=\"1\" class=\"dataframe\">\n",
              "  <thead>\n",
              "    <tr style=\"text-align: right;\">\n",
              "      <th></th>\n",
              "      <th>product_id</th>\n",
              "      <th>product_category_name</th>\n",
              "      <th>product_name_lenght</th>\n",
              "      <th>product_description_lenght</th>\n",
              "      <th>product_weight_g</th>\n",
              "      <th>product_length_cm</th>\n",
              "      <th>product_height_cm</th>\n",
              "      <th>product_width_cm</th>\n",
              "    </tr>\n",
              "  </thead>\n",
              "  <tbody>\n",
              "    <tr>\n",
              "      <th>0</th>\n",
              "      <td>1e9e8ef04dbcff4541ed26657ea517e5</td>\n",
              "      <td>perfumaria</td>\n",
              "      <td>40.0</td>\n",
              "      <td>287.0</td>\n",
              "      <td>225.0</td>\n",
              "      <td>16.0</td>\n",
              "      <td>10.0</td>\n",
              "      <td>14.0</td>\n",
              "    </tr>\n",
              "    <tr>\n",
              "      <th>1</th>\n",
              "      <td>3aa071139cb16b67ca9e5dea641aaa2f</td>\n",
              "      <td>artes</td>\n",
              "      <td>44.0</td>\n",
              "      <td>276.0</td>\n",
              "      <td>1000.0</td>\n",
              "      <td>30.0</td>\n",
              "      <td>18.0</td>\n",
              "      <td>20.0</td>\n",
              "    </tr>\n",
              "    <tr>\n",
              "      <th>2</th>\n",
              "      <td>96bd76ec8810374ed1b65e291975717f</td>\n",
              "      <td>esporte_lazer</td>\n",
              "      <td>46.0</td>\n",
              "      <td>250.0</td>\n",
              "      <td>154.0</td>\n",
              "      <td>18.0</td>\n",
              "      <td>9.0</td>\n",
              "      <td>15.0</td>\n",
              "    </tr>\n",
              "    <tr>\n",
              "      <th>3</th>\n",
              "      <td>cef67bcfe19066a932b7673e239eb23d</td>\n",
              "      <td>bebes</td>\n",
              "      <td>27.0</td>\n",
              "      <td>261.0</td>\n",
              "      <td>371.0</td>\n",
              "      <td>26.0</td>\n",
              "      <td>4.0</td>\n",
              "      <td>26.0</td>\n",
              "    </tr>\n",
              "    <tr>\n",
              "      <th>4</th>\n",
              "      <td>9dc1a7de274444849c219cff195d0b71</td>\n",
              "      <td>utilidades_domesticas</td>\n",
              "      <td>37.0</td>\n",
              "      <td>402.0</td>\n",
              "      <td>625.0</td>\n",
              "      <td>20.0</td>\n",
              "      <td>17.0</td>\n",
              "      <td>13.0</td>\n",
              "    </tr>\n",
              "  </tbody>\n",
              "</table>\n",
              "</div>"
            ],
            "text/plain": [
              "                         product_id  ... product_width_cm\n",
              "0  1e9e8ef04dbcff4541ed26657ea517e5  ...             14.0\n",
              "1  3aa071139cb16b67ca9e5dea641aaa2f  ...             20.0\n",
              "2  96bd76ec8810374ed1b65e291975717f  ...             15.0\n",
              "3  cef67bcfe19066a932b7673e239eb23d  ...             26.0\n",
              "4  9dc1a7de274444849c219cff195d0b71  ...             13.0\n",
              "\n",
              "[5 rows x 8 columns]"
            ]
          },
          "metadata": {},
          "execution_count": 18
        }
      ]
    },
    {
      "cell_type": "code",
      "metadata": {
        "colab": {
          "base_uri": "https://localhost:8080/",
          "height": 206
        },
        "id": "TDrto-SjiXBJ",
        "outputId": "18e4311a-67c6-4435-82b1-79f7efe96180"
      },
      "source": [
        "df_reviews.head()"
      ],
      "execution_count": 20,
      "outputs": [
        {
          "output_type": "execute_result",
          "data": {
            "text/html": [
              "<div>\n",
              "<style scoped>\n",
              "    .dataframe tbody tr th:only-of-type {\n",
              "        vertical-align: middle;\n",
              "    }\n",
              "\n",
              "    .dataframe tbody tr th {\n",
              "        vertical-align: top;\n",
              "    }\n",
              "\n",
              "    .dataframe thead th {\n",
              "        text-align: right;\n",
              "    }\n",
              "</style>\n",
              "<table border=\"1\" class=\"dataframe\">\n",
              "  <thead>\n",
              "    <tr style=\"text-align: right;\">\n",
              "      <th></th>\n",
              "      <th>review_id</th>\n",
              "      <th>order_id</th>\n",
              "      <th>review_score</th>\n",
              "    </tr>\n",
              "  </thead>\n",
              "  <tbody>\n",
              "    <tr>\n",
              "      <th>0</th>\n",
              "      <td>7bc2406110b926393aa56f80a40eba40</td>\n",
              "      <td>73fc7af87114b39712e6da79b0a377eb</td>\n",
              "      <td>4</td>\n",
              "    </tr>\n",
              "    <tr>\n",
              "      <th>1</th>\n",
              "      <td>80e641a11e56f04c1ad469d5645fdfde</td>\n",
              "      <td>a548910a1c6147796b98fdf73dbeba33</td>\n",
              "      <td>5</td>\n",
              "    </tr>\n",
              "    <tr>\n",
              "      <th>2</th>\n",
              "      <td>228ce5500dc1d8e020d8d1322874b6f0</td>\n",
              "      <td>f9e4b658b201a9f2ecdecbb34bed034b</td>\n",
              "      <td>5</td>\n",
              "    </tr>\n",
              "    <tr>\n",
              "      <th>3</th>\n",
              "      <td>e64fb393e7b32834bb789ff8bb30750e</td>\n",
              "      <td>658677c97b385a9be170737859d3511b</td>\n",
              "      <td>5</td>\n",
              "    </tr>\n",
              "    <tr>\n",
              "      <th>4</th>\n",
              "      <td>f7c4243c7fe1938f181bec41a392bdeb</td>\n",
              "      <td>8e6bfb81e283fa7e4f11123a3fb894f1</td>\n",
              "      <td>5</td>\n",
              "    </tr>\n",
              "  </tbody>\n",
              "</table>\n",
              "</div>"
            ],
            "text/plain": [
              "                          review_id  ... review_score\n",
              "0  7bc2406110b926393aa56f80a40eba40  ...            4\n",
              "1  80e641a11e56f04c1ad469d5645fdfde  ...            5\n",
              "2  228ce5500dc1d8e020d8d1322874b6f0  ...            5\n",
              "3  e64fb393e7b32834bb789ff8bb30750e  ...            5\n",
              "4  f7c4243c7fe1938f181bec41a392bdeb  ...            5\n",
              "\n",
              "[5 rows x 3 columns]"
            ]
          },
          "metadata": {},
          "execution_count": 20
        }
      ]
    },
    {
      "cell_type": "code",
      "metadata": {
        "colab": {
          "base_uri": "https://localhost:8080/"
        },
        "id": "wXH_SqQYi_oH",
        "outputId": "61c847e8-5292-4457-8cb8-39a54b97971c"
      },
      "source": [
        "#Verificando a existência de valores nulos\n",
        "\n",
        "df_products.isnull().sum()"
      ],
      "execution_count": 25,
      "outputs": [
        {
          "output_type": "execute_result",
          "data": {
            "text/plain": [
              "product_id                      0\n",
              "product_category_name         610\n",
              "product_name_lenght           610\n",
              "product_description_lenght    610\n",
              "product_weight_g                2\n",
              "product_length_cm               2\n",
              "product_height_cm               2\n",
              "product_width_cm                2\n",
              "dtype: int64"
            ]
          },
          "metadata": {},
          "execution_count": 25
        }
      ]
    },
    {
      "cell_type": "code",
      "metadata": {
        "colab": {
          "base_uri": "https://localhost:8080/"
        },
        "id": "ji2isdccjaKL",
        "outputId": "fcdc6556-32bc-4465-b3cb-a3e0af896bee"
      },
      "source": [
        "#Verificando a quantidade de linhas totais do df para entender a representatividade dos valores nulos\n",
        "\n",
        "df_products.shape"
      ],
      "execution_count": 34,
      "outputs": [
        {
          "output_type": "execute_result",
          "data": {
            "text/plain": [
              "(32951, 8)"
            ]
          },
          "metadata": {},
          "execution_count": 34
        }
      ]
    },
    {
      "cell_type": "code",
      "metadata": {
        "id": "6A78CJmFj1iG"
      },
      "source": [
        "#Como os nulos representam apenas 1,8% dos dados totais, optou-se por removê-los do dataset\n",
        "\n",
        "df_products.dropna(axis=0, inplace=True)"
      ],
      "execution_count": 35,
      "outputs": []
    },
    {
      "cell_type": "code",
      "metadata": {
        "colab": {
          "base_uri": "https://localhost:8080/"
        },
        "id": "bBU9Puxuj9Z_",
        "outputId": "19e520c1-66f8-4cc3-9295-10896dc1e679"
      },
      "source": [
        "#Validando a modificação\n",
        "\n",
        "df_products.isnull().sum()"
      ],
      "execution_count": 36,
      "outputs": [
        {
          "output_type": "execute_result",
          "data": {
            "text/plain": [
              "product_id                    0\n",
              "product_category_name         0\n",
              "product_name_lenght           0\n",
              "product_description_lenght    0\n",
              "product_weight_g              0\n",
              "product_length_cm             0\n",
              "product_height_cm             0\n",
              "product_width_cm              0\n",
              "dtype: int64"
            ]
          },
          "metadata": {},
          "execution_count": 36
        }
      ]
    },
    {
      "cell_type": "code",
      "metadata": {
        "colab": {
          "base_uri": "https://localhost:8080/"
        },
        "id": "PZZmTRXZjKir",
        "outputId": "853de8c5-907b-487b-e2bb-459a194a9ffb"
      },
      "source": [
        "#Verificando a existência de valores nulos\n",
        "\n",
        "df_orders.isnull().sum()"
      ],
      "execution_count": 26,
      "outputs": [
        {
          "output_type": "execute_result",
          "data": {
            "text/plain": [
              "order_id        0\n",
              "customer_id     0\n",
              "order_status    0\n",
              "dtype: int64"
            ]
          },
          "metadata": {},
          "execution_count": 26
        }
      ]
    },
    {
      "cell_type": "code",
      "metadata": {
        "colab": {
          "base_uri": "https://localhost:8080/"
        },
        "id": "IdVZ8AjMjRd8",
        "outputId": "d8b334a8-ae20-4bf0-d2e3-7e5e1103fd21"
      },
      "source": [
        "#Verificando a existência de valores nulos\n",
        "\n",
        "df_items.isnull().sum()"
      ],
      "execution_count": 27,
      "outputs": [
        {
          "output_type": "execute_result",
          "data": {
            "text/plain": [
              "order_id         0\n",
              "order_item_id    0\n",
              "product_id       0\n",
              "price            0\n",
              "dtype: int64"
            ]
          },
          "metadata": {},
          "execution_count": 27
        }
      ]
    },
    {
      "cell_type": "code",
      "metadata": {
        "colab": {
          "base_uri": "https://localhost:8080/"
        },
        "id": "X6LedRbBjVOy",
        "outputId": "12f45990-eef0-4af9-f8db-6450af4ebedc"
      },
      "source": [
        "#Verificando a existência de valores nulos\n",
        "\n",
        "df_reviews.isnull().sum()"
      ],
      "execution_count": 28,
      "outputs": [
        {
          "output_type": "execute_result",
          "data": {
            "text/plain": [
              "review_id       0\n",
              "order_id        0\n",
              "review_score    0\n",
              "dtype: int64"
            ]
          },
          "metadata": {},
          "execution_count": 28
        }
      ]
    },
    {
      "cell_type": "code",
      "metadata": {
        "id": "ORWcgrqxhpwj"
      },
      "source": [
        "#Retirando as colunas desnecessárias\n",
        "\n",
        "df_products.drop('Unnamed: 0', axis=1, inplace=True)\n",
        "df_orders.drop('Unnamed: 0', axis=1, inplace=True)\n",
        "df_reviews.drop('Unnamed: 0', axis=1, inplace=True)\n",
        "df_items.drop('Unnamed: 0', axis=1, inplace=True)"
      ],
      "execution_count": 17,
      "outputs": []
    },
    {
      "cell_type": "code",
      "metadata": {
        "colab": {
          "base_uri": "https://localhost:8080/",
          "height": 206
        },
        "id": "PprsJrRuiUSm",
        "outputId": "d124f330-cf48-4b78-ed1f-c53bae244ee3"
      },
      "source": [
        "#Unificando os dataframes em um só\n",
        "\n",
        "df1 = pd.merge(df_reviews, df_orders, on='order_id', how='left')\n",
        "df1.head()"
      ],
      "execution_count": 40,
      "outputs": [
        {
          "output_type": "execute_result",
          "data": {
            "text/html": [
              "<div>\n",
              "<style scoped>\n",
              "    .dataframe tbody tr th:only-of-type {\n",
              "        vertical-align: middle;\n",
              "    }\n",
              "\n",
              "    .dataframe tbody tr th {\n",
              "        vertical-align: top;\n",
              "    }\n",
              "\n",
              "    .dataframe thead th {\n",
              "        text-align: right;\n",
              "    }\n",
              "</style>\n",
              "<table border=\"1\" class=\"dataframe\">\n",
              "  <thead>\n",
              "    <tr style=\"text-align: right;\">\n",
              "      <th></th>\n",
              "      <th>review_id</th>\n",
              "      <th>order_id</th>\n",
              "      <th>review_score</th>\n",
              "      <th>customer_id</th>\n",
              "      <th>order_status</th>\n",
              "    </tr>\n",
              "  </thead>\n",
              "  <tbody>\n",
              "    <tr>\n",
              "      <th>0</th>\n",
              "      <td>7bc2406110b926393aa56f80a40eba40</td>\n",
              "      <td>73fc7af87114b39712e6da79b0a377eb</td>\n",
              "      <td>4</td>\n",
              "      <td>41dcb106f807e993532d446263290104</td>\n",
              "      <td>delivered</td>\n",
              "    </tr>\n",
              "    <tr>\n",
              "      <th>1</th>\n",
              "      <td>80e641a11e56f04c1ad469d5645fdfde</td>\n",
              "      <td>a548910a1c6147796b98fdf73dbeba33</td>\n",
              "      <td>5</td>\n",
              "      <td>8a2e7ef9053dea531e4dc76bd6d853e6</td>\n",
              "      <td>delivered</td>\n",
              "    </tr>\n",
              "    <tr>\n",
              "      <th>2</th>\n",
              "      <td>228ce5500dc1d8e020d8d1322874b6f0</td>\n",
              "      <td>f9e4b658b201a9f2ecdecbb34bed034b</td>\n",
              "      <td>5</td>\n",
              "      <td>e226dfed6544df5b7b87a48208690feb</td>\n",
              "      <td>delivered</td>\n",
              "    </tr>\n",
              "    <tr>\n",
              "      <th>3</th>\n",
              "      <td>e64fb393e7b32834bb789ff8bb30750e</td>\n",
              "      <td>658677c97b385a9be170737859d3511b</td>\n",
              "      <td>5</td>\n",
              "      <td>de6dff97e5f1ba84a3cd9a3bc97df5f6</td>\n",
              "      <td>delivered</td>\n",
              "    </tr>\n",
              "    <tr>\n",
              "      <th>4</th>\n",
              "      <td>f7c4243c7fe1938f181bec41a392bdeb</td>\n",
              "      <td>8e6bfb81e283fa7e4f11123a3fb894f1</td>\n",
              "      <td>5</td>\n",
              "      <td>5986b333ca0d44534a156a52a8e33a83</td>\n",
              "      <td>delivered</td>\n",
              "    </tr>\n",
              "  </tbody>\n",
              "</table>\n",
              "</div>"
            ],
            "text/plain": [
              "                          review_id  ... order_status\n",
              "0  7bc2406110b926393aa56f80a40eba40  ...    delivered\n",
              "1  80e641a11e56f04c1ad469d5645fdfde  ...    delivered\n",
              "2  228ce5500dc1d8e020d8d1322874b6f0  ...    delivered\n",
              "3  e64fb393e7b32834bb789ff8bb30750e  ...    delivered\n",
              "4  f7c4243c7fe1938f181bec41a392bdeb  ...    delivered\n",
              "\n",
              "[5 rows x 5 columns]"
            ]
          },
          "metadata": {},
          "execution_count": 40
        }
      ]
    },
    {
      "cell_type": "code",
      "metadata": {
        "colab": {
          "base_uri": "https://localhost:8080/",
          "height": 226
        },
        "id": "surGbiQ2kQNo",
        "outputId": "a01e1647-01ba-4be4-fa96-71872b4371a9"
      },
      "source": [
        "df2 = pd.merge(df1, df_items, on='order_id', how='left')\n",
        "df2.head()"
      ],
      "execution_count": 41,
      "outputs": [
        {
          "output_type": "execute_result",
          "data": {
            "text/html": [
              "<div>\n",
              "<style scoped>\n",
              "    .dataframe tbody tr th:only-of-type {\n",
              "        vertical-align: middle;\n",
              "    }\n",
              "\n",
              "    .dataframe tbody tr th {\n",
              "        vertical-align: top;\n",
              "    }\n",
              "\n",
              "    .dataframe thead th {\n",
              "        text-align: right;\n",
              "    }\n",
              "</style>\n",
              "<table border=\"1\" class=\"dataframe\">\n",
              "  <thead>\n",
              "    <tr style=\"text-align: right;\">\n",
              "      <th></th>\n",
              "      <th>review_id</th>\n",
              "      <th>order_id</th>\n",
              "      <th>review_score</th>\n",
              "      <th>customer_id</th>\n",
              "      <th>order_status</th>\n",
              "      <th>order_item_id</th>\n",
              "      <th>product_id</th>\n",
              "      <th>price</th>\n",
              "    </tr>\n",
              "  </thead>\n",
              "  <tbody>\n",
              "    <tr>\n",
              "      <th>0</th>\n",
              "      <td>7bc2406110b926393aa56f80a40eba40</td>\n",
              "      <td>73fc7af87114b39712e6da79b0a377eb</td>\n",
              "      <td>4</td>\n",
              "      <td>41dcb106f807e993532d446263290104</td>\n",
              "      <td>delivered</td>\n",
              "      <td>1.0</td>\n",
              "      <td>fd25ab760bfbba13c198fa3b4f1a0cd3</td>\n",
              "      <td>185.00</td>\n",
              "    </tr>\n",
              "    <tr>\n",
              "      <th>1</th>\n",
              "      <td>7bc2406110b926393aa56f80a40eba40</td>\n",
              "      <td>73fc7af87114b39712e6da79b0a377eb</td>\n",
              "      <td>4</td>\n",
              "      <td>41dcb106f807e993532d446263290104</td>\n",
              "      <td>delivered</td>\n",
              "      <td>2.0</td>\n",
              "      <td>fd25ab760bfbba13c198fa3b4f1a0cd3</td>\n",
              "      <td>185.00</td>\n",
              "    </tr>\n",
              "    <tr>\n",
              "      <th>2</th>\n",
              "      <td>80e641a11e56f04c1ad469d5645fdfde</td>\n",
              "      <td>a548910a1c6147796b98fdf73dbeba33</td>\n",
              "      <td>5</td>\n",
              "      <td>8a2e7ef9053dea531e4dc76bd6d853e6</td>\n",
              "      <td>delivered</td>\n",
              "      <td>1.0</td>\n",
              "      <td>be0dbdc3d67d55727a65d4cd696ca73c</td>\n",
              "      <td>79.79</td>\n",
              "    </tr>\n",
              "    <tr>\n",
              "      <th>3</th>\n",
              "      <td>228ce5500dc1d8e020d8d1322874b6f0</td>\n",
              "      <td>f9e4b658b201a9f2ecdecbb34bed034b</td>\n",
              "      <td>5</td>\n",
              "      <td>e226dfed6544df5b7b87a48208690feb</td>\n",
              "      <td>delivered</td>\n",
              "      <td>1.0</td>\n",
              "      <td>d1c427060a0f73f6b889a5c7c61f2ac4</td>\n",
              "      <td>149.00</td>\n",
              "    </tr>\n",
              "    <tr>\n",
              "      <th>4</th>\n",
              "      <td>e64fb393e7b32834bb789ff8bb30750e</td>\n",
              "      <td>658677c97b385a9be170737859d3511b</td>\n",
              "      <td>5</td>\n",
              "      <td>de6dff97e5f1ba84a3cd9a3bc97df5f6</td>\n",
              "      <td>delivered</td>\n",
              "      <td>1.0</td>\n",
              "      <td>52c80cedd4e90108bf4fa6a206ef6b03</td>\n",
              "      <td>179.99</td>\n",
              "    </tr>\n",
              "  </tbody>\n",
              "</table>\n",
              "</div>"
            ],
            "text/plain": [
              "                          review_id  ...   price\n",
              "0  7bc2406110b926393aa56f80a40eba40  ...  185.00\n",
              "1  7bc2406110b926393aa56f80a40eba40  ...  185.00\n",
              "2  80e641a11e56f04c1ad469d5645fdfde  ...   79.79\n",
              "3  228ce5500dc1d8e020d8d1322874b6f0  ...  149.00\n",
              "4  e64fb393e7b32834bb789ff8bb30750e  ...  179.99\n",
              "\n",
              "[5 rows x 8 columns]"
            ]
          },
          "metadata": {},
          "execution_count": 41
        }
      ]
    },
    {
      "cell_type": "code",
      "metadata": {
        "colab": {
          "base_uri": "https://localhost:8080/",
          "height": 226
        },
        "id": "Q3sBsG5UktXr",
        "outputId": "39ed6b25-18e4-48e1-e8c2-3b0f96d26584"
      },
      "source": [
        "df = pd.merge(df2,df_products, on='product_id', how='left')\n",
        "df.head()"
      ],
      "execution_count": 43,
      "outputs": [
        {
          "output_type": "execute_result",
          "data": {
            "text/html": [
              "<div>\n",
              "<style scoped>\n",
              "    .dataframe tbody tr th:only-of-type {\n",
              "        vertical-align: middle;\n",
              "    }\n",
              "\n",
              "    .dataframe tbody tr th {\n",
              "        vertical-align: top;\n",
              "    }\n",
              "\n",
              "    .dataframe thead th {\n",
              "        text-align: right;\n",
              "    }\n",
              "</style>\n",
              "<table border=\"1\" class=\"dataframe\">\n",
              "  <thead>\n",
              "    <tr style=\"text-align: right;\">\n",
              "      <th></th>\n",
              "      <th>review_id</th>\n",
              "      <th>order_id</th>\n",
              "      <th>review_score</th>\n",
              "      <th>customer_id</th>\n",
              "      <th>order_status</th>\n",
              "      <th>order_item_id</th>\n",
              "      <th>product_id</th>\n",
              "      <th>price</th>\n",
              "      <th>product_category_name</th>\n",
              "      <th>product_name_lenght</th>\n",
              "      <th>product_description_lenght</th>\n",
              "      <th>product_weight_g</th>\n",
              "      <th>product_length_cm</th>\n",
              "      <th>product_height_cm</th>\n",
              "      <th>product_width_cm</th>\n",
              "    </tr>\n",
              "  </thead>\n",
              "  <tbody>\n",
              "    <tr>\n",
              "      <th>0</th>\n",
              "      <td>7bc2406110b926393aa56f80a40eba40</td>\n",
              "      <td>73fc7af87114b39712e6da79b0a377eb</td>\n",
              "      <td>4</td>\n",
              "      <td>41dcb106f807e993532d446263290104</td>\n",
              "      <td>delivered</td>\n",
              "      <td>1.0</td>\n",
              "      <td>fd25ab760bfbba13c198fa3b4f1a0cd3</td>\n",
              "      <td>185.00</td>\n",
              "      <td>esporte_lazer</td>\n",
              "      <td>42.0</td>\n",
              "      <td>858.0</td>\n",
              "      <td>1300.0</td>\n",
              "      <td>30.0</td>\n",
              "      <td>30.0</td>\n",
              "      <td>35.0</td>\n",
              "    </tr>\n",
              "    <tr>\n",
              "      <th>1</th>\n",
              "      <td>7bc2406110b926393aa56f80a40eba40</td>\n",
              "      <td>73fc7af87114b39712e6da79b0a377eb</td>\n",
              "      <td>4</td>\n",
              "      <td>41dcb106f807e993532d446263290104</td>\n",
              "      <td>delivered</td>\n",
              "      <td>2.0</td>\n",
              "      <td>fd25ab760bfbba13c198fa3b4f1a0cd3</td>\n",
              "      <td>185.00</td>\n",
              "      <td>esporte_lazer</td>\n",
              "      <td>42.0</td>\n",
              "      <td>858.0</td>\n",
              "      <td>1300.0</td>\n",
              "      <td>30.0</td>\n",
              "      <td>30.0</td>\n",
              "      <td>35.0</td>\n",
              "    </tr>\n",
              "    <tr>\n",
              "      <th>2</th>\n",
              "      <td>80e641a11e56f04c1ad469d5645fdfde</td>\n",
              "      <td>a548910a1c6147796b98fdf73dbeba33</td>\n",
              "      <td>5</td>\n",
              "      <td>8a2e7ef9053dea531e4dc76bd6d853e6</td>\n",
              "      <td>delivered</td>\n",
              "      <td>1.0</td>\n",
              "      <td>be0dbdc3d67d55727a65d4cd696ca73c</td>\n",
              "      <td>79.79</td>\n",
              "      <td>informatica_acessorios</td>\n",
              "      <td>47.0</td>\n",
              "      <td>493.0</td>\n",
              "      <td>245.0</td>\n",
              "      <td>19.0</td>\n",
              "      <td>14.0</td>\n",
              "      <td>14.0</td>\n",
              "    </tr>\n",
              "    <tr>\n",
              "      <th>3</th>\n",
              "      <td>228ce5500dc1d8e020d8d1322874b6f0</td>\n",
              "      <td>f9e4b658b201a9f2ecdecbb34bed034b</td>\n",
              "      <td>5</td>\n",
              "      <td>e226dfed6544df5b7b87a48208690feb</td>\n",
              "      <td>delivered</td>\n",
              "      <td>1.0</td>\n",
              "      <td>d1c427060a0f73f6b889a5c7c61f2ac4</td>\n",
              "      <td>149.00</td>\n",
              "      <td>informatica_acessorios</td>\n",
              "      <td>59.0</td>\n",
              "      <td>1893.0</td>\n",
              "      <td>6550.0</td>\n",
              "      <td>20.0</td>\n",
              "      <td>20.0</td>\n",
              "      <td>20.0</td>\n",
              "    </tr>\n",
              "    <tr>\n",
              "      <th>4</th>\n",
              "      <td>e64fb393e7b32834bb789ff8bb30750e</td>\n",
              "      <td>658677c97b385a9be170737859d3511b</td>\n",
              "      <td>5</td>\n",
              "      <td>de6dff97e5f1ba84a3cd9a3bc97df5f6</td>\n",
              "      <td>delivered</td>\n",
              "      <td>1.0</td>\n",
              "      <td>52c80cedd4e90108bf4fa6a206ef6b03</td>\n",
              "      <td>179.99</td>\n",
              "      <td>ferramentas_jardim</td>\n",
              "      <td>33.0</td>\n",
              "      <td>2188.0</td>\n",
              "      <td>7650.0</td>\n",
              "      <td>20.0</td>\n",
              "      <td>20.0</td>\n",
              "      <td>20.0</td>\n",
              "    </tr>\n",
              "  </tbody>\n",
              "</table>\n",
              "</div>"
            ],
            "text/plain": [
              "                          review_id  ... product_width_cm\n",
              "0  7bc2406110b926393aa56f80a40eba40  ...             35.0\n",
              "1  7bc2406110b926393aa56f80a40eba40  ...             35.0\n",
              "2  80e641a11e56f04c1ad469d5645fdfde  ...             14.0\n",
              "3  228ce5500dc1d8e020d8d1322874b6f0  ...             20.0\n",
              "4  e64fb393e7b32834bb789ff8bb30750e  ...             20.0\n",
              "\n",
              "[5 rows x 15 columns]"
            ]
          },
          "metadata": {},
          "execution_count": 43
        }
      ]
    },
    {
      "cell_type": "code",
      "metadata": {
        "colab": {
          "base_uri": "https://localhost:8080/"
        },
        "id": "7mRJIl2Hk6A7",
        "outputId": "e45e8aea-30bb-4643-d92d-ee8f7d353ed5"
      },
      "source": [
        "df.shape"
      ],
      "execution_count": 44,
      "outputs": [
        {
          "output_type": "execute_result",
          "data": {
            "text/plain": [
              "(113131, 15)"
            ]
          },
          "metadata": {},
          "execution_count": 44
        }
      ]
    },
    {
      "cell_type": "code",
      "metadata": {
        "colab": {
          "base_uri": "https://localhost:8080/",
          "height": 320
        },
        "id": "NIuZZqh8k8S7",
        "outputId": "bfd4602c-63d6-4fa1-8ecc-7b18c56f93c6"
      },
      "source": [
        "df.describe()"
      ],
      "execution_count": 45,
      "outputs": [
        {
          "output_type": "execute_result",
          "data": {
            "text/html": [
              "<div>\n",
              "<style scoped>\n",
              "    .dataframe tbody tr th:only-of-type {\n",
              "        vertical-align: middle;\n",
              "    }\n",
              "\n",
              "    .dataframe tbody tr th {\n",
              "        vertical-align: top;\n",
              "    }\n",
              "\n",
              "    .dataframe thead th {\n",
              "        text-align: right;\n",
              "    }\n",
              "</style>\n",
              "<table border=\"1\" class=\"dataframe\">\n",
              "  <thead>\n",
              "    <tr style=\"text-align: right;\">\n",
              "      <th></th>\n",
              "      <th>review_score</th>\n",
              "      <th>order_item_id</th>\n",
              "      <th>price</th>\n",
              "      <th>product_name_lenght</th>\n",
              "      <th>product_description_lenght</th>\n",
              "      <th>product_weight_g</th>\n",
              "      <th>product_length_cm</th>\n",
              "      <th>product_height_cm</th>\n",
              "      <th>product_width_cm</th>\n",
              "    </tr>\n",
              "  </thead>\n",
              "  <tbody>\n",
              "    <tr>\n",
              "      <th>count</th>\n",
              "      <td>113131.000000</td>\n",
              "      <td>112372.000000</td>\n",
              "      <td>112372.000000</td>\n",
              "      <td>110773.000000</td>\n",
              "      <td>110773.000000</td>\n",
              "      <td>110773.000000</td>\n",
              "      <td>110773.000000</td>\n",
              "      <td>110773.000000</td>\n",
              "      <td>110773.000000</td>\n",
              "    </tr>\n",
              "    <tr>\n",
              "      <th>mean</th>\n",
              "      <td>4.016998</td>\n",
              "      <td>1.196010</td>\n",
              "      <td>120.378962</td>\n",
              "      <td>48.777482</td>\n",
              "      <td>786.793226</td>\n",
              "      <td>2096.779143</td>\n",
              "      <td>30.209166</td>\n",
              "      <td>16.609147</td>\n",
              "      <td>23.046491</td>\n",
              "    </tr>\n",
              "    <tr>\n",
              "      <th>std</th>\n",
              "      <td>1.400074</td>\n",
              "      <td>0.691243</td>\n",
              "      <td>182.152386</td>\n",
              "      <td>10.025168</td>\n",
              "      <td>651.612397</td>\n",
              "      <td>3751.465382</td>\n",
              "      <td>16.174395</td>\n",
              "      <td>13.461482</td>\n",
              "      <td>11.716425</td>\n",
              "    </tr>\n",
              "    <tr>\n",
              "      <th>min</th>\n",
              "      <td>1.000000</td>\n",
              "      <td>1.000000</td>\n",
              "      <td>0.850000</td>\n",
              "      <td>5.000000</td>\n",
              "      <td>4.000000</td>\n",
              "      <td>0.000000</td>\n",
              "      <td>7.000000</td>\n",
              "      <td>2.000000</td>\n",
              "      <td>6.000000</td>\n",
              "    </tr>\n",
              "    <tr>\n",
              "      <th>25%</th>\n",
              "      <td>4.000000</td>\n",
              "      <td>1.000000</td>\n",
              "      <td>39.900000</td>\n",
              "      <td>42.000000</td>\n",
              "      <td>348.000000</td>\n",
              "      <td>300.000000</td>\n",
              "      <td>18.000000</td>\n",
              "      <td>8.000000</td>\n",
              "      <td>15.000000</td>\n",
              "    </tr>\n",
              "    <tr>\n",
              "      <th>50%</th>\n",
              "      <td>5.000000</td>\n",
              "      <td>1.000000</td>\n",
              "      <td>74.900000</td>\n",
              "      <td>52.000000</td>\n",
              "      <td>601.000000</td>\n",
              "      <td>700.000000</td>\n",
              "      <td>25.000000</td>\n",
              "      <td>13.000000</td>\n",
              "      <td>20.000000</td>\n",
              "    </tr>\n",
              "    <tr>\n",
              "      <th>75%</th>\n",
              "      <td>5.000000</td>\n",
              "      <td>1.000000</td>\n",
              "      <td>134.900000</td>\n",
              "      <td>57.000000</td>\n",
              "      <td>985.000000</td>\n",
              "      <td>1800.000000</td>\n",
              "      <td>38.000000</td>\n",
              "      <td>20.000000</td>\n",
              "      <td>30.000000</td>\n",
              "    </tr>\n",
              "    <tr>\n",
              "      <th>max</th>\n",
              "      <td>5.000000</td>\n",
              "      <td>21.000000</td>\n",
              "      <td>6735.000000</td>\n",
              "      <td>76.000000</td>\n",
              "      <td>3992.000000</td>\n",
              "      <td>40425.000000</td>\n",
              "      <td>105.000000</td>\n",
              "      <td>105.000000</td>\n",
              "      <td>118.000000</td>\n",
              "    </tr>\n",
              "  </tbody>\n",
              "</table>\n",
              "</div>"
            ],
            "text/plain": [
              "        review_score  order_item_id  ...  product_height_cm  product_width_cm\n",
              "count  113131.000000  112372.000000  ...      110773.000000     110773.000000\n",
              "mean        4.016998       1.196010  ...          16.609147         23.046491\n",
              "std         1.400074       0.691243  ...          13.461482         11.716425\n",
              "min         1.000000       1.000000  ...           2.000000          6.000000\n",
              "25%         4.000000       1.000000  ...           8.000000         15.000000\n",
              "50%         5.000000       1.000000  ...          13.000000         20.000000\n",
              "75%         5.000000       1.000000  ...          20.000000         30.000000\n",
              "max         5.000000      21.000000  ...         105.000000        118.000000\n",
              "\n",
              "[8 rows x 9 columns]"
            ]
          },
          "metadata": {},
          "execution_count": 45
        }
      ]
    },
    {
      "cell_type": "code",
      "metadata": {
        "colab": {
          "base_uri": "https://localhost:8080/"
        },
        "id": "t0SF-jQdk_jL",
        "outputId": "c714c753-fe34-4356-ee09-5fdb39b985cb"
      },
      "source": [
        "df.info()"
      ],
      "execution_count": 46,
      "outputs": [
        {
          "output_type": "stream",
          "name": "stdout",
          "text": [
            "<class 'pandas.core.frame.DataFrame'>\n",
            "Int64Index: 113131 entries, 0 to 113130\n",
            "Data columns (total 15 columns):\n",
            " #   Column                      Non-Null Count   Dtype  \n",
            "---  ------                      --------------   -----  \n",
            " 0   review_id                   113131 non-null  object \n",
            " 1   order_id                    113131 non-null  object \n",
            " 2   review_score                113131 non-null  int64  \n",
            " 3   customer_id                 113131 non-null  object \n",
            " 4   order_status                113131 non-null  object \n",
            " 5   order_item_id               112372 non-null  float64\n",
            " 6   product_id                  112372 non-null  object \n",
            " 7   price                       112372 non-null  float64\n",
            " 8   product_category_name       110773 non-null  object \n",
            " 9   product_name_lenght         110773 non-null  float64\n",
            " 10  product_description_lenght  110773 non-null  float64\n",
            " 11  product_weight_g            110773 non-null  float64\n",
            " 12  product_length_cm           110773 non-null  float64\n",
            " 13  product_height_cm           110773 non-null  float64\n",
            " 14  product_width_cm            110773 non-null  float64\n",
            "dtypes: float64(8), int64(1), object(6)\n",
            "memory usage: 13.8+ MB\n"
          ]
        }
      ]
    },
    {
      "cell_type": "code",
      "metadata": {
        "colab": {
          "base_uri": "https://localhost:8080/"
        },
        "id": "0NVan_hOlHMD",
        "outputId": "5fabefa0-d446-4f3a-c8ac-7ae84a92a035"
      },
      "source": [
        "#Removendo as linhas nulas\n",
        "\n",
        "df.dropna(axis=0,inplace=True)\n",
        "df.info()"
      ],
      "execution_count": 48,
      "outputs": [
        {
          "output_type": "stream",
          "name": "stdout",
          "text": [
            "<class 'pandas.core.frame.DataFrame'>\n",
            "Int64Index: 110773 entries, 0 to 113130\n",
            "Data columns (total 15 columns):\n",
            " #   Column                      Non-Null Count   Dtype  \n",
            "---  ------                      --------------   -----  \n",
            " 0   review_id                   110773 non-null  object \n",
            " 1   order_id                    110773 non-null  object \n",
            " 2   review_score                110773 non-null  int64  \n",
            " 3   customer_id                 110773 non-null  object \n",
            " 4   order_status                110773 non-null  object \n",
            " 5   order_item_id               110773 non-null  float64\n",
            " 6   product_id                  110773 non-null  object \n",
            " 7   price                       110773 non-null  float64\n",
            " 8   product_category_name       110773 non-null  object \n",
            " 9   product_name_lenght         110773 non-null  float64\n",
            " 10  product_description_lenght  110773 non-null  float64\n",
            " 11  product_weight_g            110773 non-null  float64\n",
            " 12  product_length_cm           110773 non-null  float64\n",
            " 13  product_height_cm           110773 non-null  float64\n",
            " 14  product_width_cm            110773 non-null  float64\n",
            "dtypes: float64(8), int64(1), object(6)\n",
            "memory usage: 13.5+ MB\n"
          ]
        }
      ]
    },
    {
      "cell_type": "code",
      "metadata": {
        "id": "O3BGRMoRmiu7"
      },
      "source": [
        "from collections import Counter"
      ],
      "execution_count": 54,
      "outputs": []
    },
    {
      "cell_type": "code",
      "metadata": {
        "id": "k4eM_EpymPG5"
      },
      "source": [
        "#Contando quantos itens tem no dataset\n",
        "\n",
        "item_count = Counter(df.index)\n",
        "n = 1000"
      ],
      "execution_count": 57,
      "outputs": []
    },
    {
      "cell_type": "code",
      "metadata": {
        "id": "x9tART_75JLm"
      },
      "source": [
        "#Separando os itens mais comuns \n",
        "\n",
        "items = [u for u, c in item_count.most_common(n)]"
      ],
      "execution_count": 58,
      "outputs": []
    },
    {
      "cell_type": "code",
      "metadata": {
        "id": "uWhs7Oqe6kX0"
      },
      "source": [
        "#Criando um novo df com os itens mais comuns\n",
        "\n",
        "df_small = df[df.index.isin(items)].copy()"
      ],
      "execution_count": 60,
      "outputs": []
    },
    {
      "cell_type": "code",
      "metadata": {
        "id": "ZbapvRJX8rQ7"
      },
      "source": [
        "import pandas as pd\n",
        "from sklearn.metrics.pairwise import cosine_similarity\n",
        "\n",
        "\n",
        "def get_data(path):\n",
        "  return pd.read_csv(path)\n",
        "\n",
        "\n",
        "def start_pipeline(dataf):\n",
        "  return dataf.copy()\n",
        "\n",
        "\n",
        "def get_book_counts(dataf):\n",
        "  return dataf.groupby(by='ISBN', as_index=False) \\\n",
        "    .agg({'User-ID': pd.Series.nunique}) \\\n",
        "    .rename(columns={'User-ID': 'User-ID_count'}) \\\n",
        "    .set_index('ISBN') \\\n",
        "    .sort_values('User-ID_count', ascending = False)\n",
        "\n",
        "\n",
        "def get_n_top_values(dataf, n):\n",
        "  return dataf.head(n) \\\n",
        "    .index \\\n",
        "    .tolist()\n",
        "\n",
        "\n",
        "def format_sample(dataf):\n",
        "  return pd.DataFrame({\n",
        "      \"user\": dataf[\"User-ID\"],\n",
        "      \"book\": dataf[\"ISBN\"],\n",
        "      \"action\": dataf[\"Book-Rating\"]\n",
        "  })\n",
        "\n",
        "\n",
        "def get_top_books_ids(dataf, sample_size=1000):\n",
        "  return dataf \\\n",
        "    .pipe(start_pipeline) \\\n",
        "    .pipe(get_book_counts) \\\n",
        "    .pipe(get_n_top_values, sample_size)\n",
        "\n",
        "\n",
        "def get_item_based_similarity_matrix(data):\n",
        "  top_book_ids = get_top_books_ids(data)\n",
        "  book_sampled_relationship_data = data[data.index.isin(top_book_ids)] \\\n",
        "    .pipe(format_sample) \\\n",
        "    .pivot_table(index=\"user\", columns=\"book\", values=\"action\").fillna(0)\n",
        "  return cosine_similarity(book_sampled_relationship_data.T), book_sampled_relationship_data.T.index"
      ],
      "execution_count": 62,
      "outputs": []
    },
    {
      "cell_type": "code",
      "metadata": {
        "id": "4YYvZPRt8giG"
      },
      "source": [
        "import random\n",
        "\n",
        "import numpy as np\n",
        "\n",
        "class ItemBasedRecommender:\n",
        "\n",
        "  def __init__(self, data_path):\n",
        "    self.data_path = data_path\n",
        "\n",
        "  def setup(self):\n",
        "    data = get_data(self.data_path)\n",
        "    sim_matrix, available_items_index = get_item_based_similarity_matrix(data)\n",
        "    self.available_items_index = available_items_index\n",
        "    self.sim_matrix = sim_matrix\n",
        "\n",
        "  def get_random_item_index(self):\n",
        "    item_id = self.available_items_index[random.randint(0, self.sim_matrix.shape[0])]\n",
        "    return item_id\n",
        "\n",
        "  def get_n_closest(self, item_id, n=10):\n",
        "    if item_id not in self.available_items_index:\n",
        "      raise ValueError('Item is not available on data.')\n",
        "    item_index = self.available_items_index.tolist().index(item_id)\n",
        "    closest_n_iten = np.argsort(-self.sim_matrix[item_index])[1:n]\n",
        "    n_closest = []\n",
        "    for item_data in zip(self.available_items_index[closest_n_iten], self.sim_matrix[item_index][closest_n_iten]):\n",
        "      n_closest.append(item_data)\n",
        "    return tuple(n_closest)"
      ],
      "execution_count": 64,
      "outputs": []
    }
  ]
}